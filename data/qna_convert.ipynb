{
 "cells": [
  {
   "cell_type": "code",
   "execution_count": 3,
   "metadata": {},
   "outputs": [],
   "source": [
    "import json\n",
    "import pandas as pd\n",
    "\n",
    "# Load JSON data from a file\n",
    "with open(\"json/data2.json\", \"r\", encoding=\"utf-8\") as file:\n",
    "    data = json.load(file)\n"
   ]
  },
  {
   "cell_type": "code",
   "execution_count": 4,
   "metadata": {},
   "outputs": [],
   "source": [
    "qna_pairs = []\n",
    "\n",
    "for conversation in data:\n",
    "    messages = conversation[\"messages\"]\n",
    "    q, a = None, None  # Initialize question and answer\n",
    "\n",
    "    for msg in messages:\n",
    "        if msg[\"role\"] == \"user\":\n",
    "            q = msg[\"content\"]  # Store user question\n",
    "        elif msg[\"role\"] == \"assistant\" and q:\n",
    "            a = msg[\"content\"]  # Store assistant answer\n",
    "            qna_pairs.append({\"Q\": q, \"A\": a})  # Add to list\n",
    "            q, a = None, None  # Reset for next Q&A pair\n",
    "\n",
    "# Convert to DataFrame\n",
    "df = pd.DataFrame(qna_pairs)"
   ]
  },
  {
   "cell_type": "code",
   "execution_count": 5,
   "metadata": {},
   "outputs": [
    {
     "data": {
      "text/html": [
       "<div>\n",
       "<style scoped>\n",
       "    .dataframe tbody tr th:only-of-type {\n",
       "        vertical-align: middle;\n",
       "    }\n",
       "\n",
       "    .dataframe tbody tr th {\n",
       "        vertical-align: top;\n",
       "    }\n",
       "\n",
       "    .dataframe thead th {\n",
       "        text-align: right;\n",
       "    }\n",
       "</style>\n",
       "<table border=\"1\" class=\"dataframe\">\n",
       "  <thead>\n",
       "    <tr style=\"text-align: right;\">\n",
       "      <th></th>\n",
       "      <th>Q</th>\n",
       "      <th>A</th>\n",
       "    </tr>\n",
       "  </thead>\n",
       "  <tbody>\n",
       "    <tr>\n",
       "      <th>0</th>\n",
       "      <td>Cách nạp tiền vào ví FAP?</td>\n",
       "      <td>Để nạp tiền vào ví FAP, sinh viên cần thực hiệ...</td>\n",
       "    </tr>\n",
       "    <tr>\n",
       "      <th>1</th>\n",
       "      <td>Thủ tục xin tạm ngừng học đi/ bảo lưu để học lại?</td>\n",
       "      <td>Thủ tục xin tạm ngừng học hoặc bảo lưu để học ...</td>\n",
       "    </tr>\n",
       "    <tr>\n",
       "      <th>2</th>\n",
       "      <td>Cách thức đăng ký học lại ?</td>\n",
       "      <td>Cách thức đăng ký học lại\\n\\n Để đăng ký học l...</td>\n",
       "    </tr>\n",
       "    <tr>\n",
       "      <th>3</th>\n",
       "      <td>Thủ tục xin bảo lưu/tạm ngừng 1 học kỳ ?</td>\n",
       "      <td>Thủ tục xin bảo lưu hoặc tạm ngừng một học kỳ\\...</td>\n",
       "    </tr>\n",
       "    <tr>\n",
       "      <th>4</th>\n",
       "      <td>Cách thức đăng ký học môn chậm kỳ?</td>\n",
       "      <td>Cách đăng ký môn học chậm kỳ\\n\\n Môn học chậm ...</td>\n",
       "    </tr>\n",
       "    <tr>\n",
       "      <th>...</th>\n",
       "      <td>...</td>\n",
       "      <td>...</td>\n",
       "    </tr>\n",
       "    <tr>\n",
       "      <th>138</th>\n",
       "      <td>Những chiến lược học nào là tốt nhất để tôi tổ...</td>\n",
       "      <td></td>\n",
       "    </tr>\n",
       "    <tr>\n",
       "      <th>139</th>\n",
       "      <td>Làm sao để tôi cân bằng giữa việc học, cuộc số...</td>\n",
       "      <td></td>\n",
       "    </tr>\n",
       "    <tr>\n",
       "      <th>140</th>\n",
       "      <td>Làm sao để tôi duy trì động lực học tập?</td>\n",
       "      <td></td>\n",
       "    </tr>\n",
       "    <tr>\n",
       "      <th>141</th>\n",
       "      <td>Làm sao để chuẩn bị cho kỳ thi và viết bài luậ...</td>\n",
       "      <td></td>\n",
       "    </tr>\n",
       "    <tr>\n",
       "      <th>142</th>\n",
       "      <td>Làm sao để tôi hợp tác hiệu quả trong các dự á...</td>\n",
       "      <td></td>\n",
       "    </tr>\n",
       "  </tbody>\n",
       "</table>\n",
       "<p>143 rows × 2 columns</p>\n",
       "</div>"
      ],
      "text/plain": [
       "                                                     Q  \\\n",
       "0                            Cách nạp tiền vào ví FAP?   \n",
       "1    Thủ tục xin tạm ngừng học đi/ bảo lưu để học lại?   \n",
       "2                          Cách thức đăng ký học lại ?   \n",
       "3             Thủ tục xin bảo lưu/tạm ngừng 1 học kỳ ?   \n",
       "4                   Cách thức đăng ký học môn chậm kỳ?   \n",
       "..                                                 ...   \n",
       "138  Những chiến lược học nào là tốt nhất để tôi tổ...   \n",
       "139  Làm sao để tôi cân bằng giữa việc học, cuộc số...   \n",
       "140           Làm sao để tôi duy trì động lực học tập?   \n",
       "141  Làm sao để chuẩn bị cho kỳ thi và viết bài luậ...   \n",
       "142  Làm sao để tôi hợp tác hiệu quả trong các dự á...   \n",
       "\n",
       "                                                     A  \n",
       "0    Để nạp tiền vào ví FAP, sinh viên cần thực hiệ...  \n",
       "1    Thủ tục xin tạm ngừng học hoặc bảo lưu để học ...  \n",
       "2    Cách thức đăng ký học lại\\n\\n Để đăng ký học l...  \n",
       "3    Thủ tục xin bảo lưu hoặc tạm ngừng một học kỳ\\...  \n",
       "4    Cách đăng ký môn học chậm kỳ\\n\\n Môn học chậm ...  \n",
       "..                                                 ...  \n",
       "138                                                     \n",
       "139                                                     \n",
       "140                                                     \n",
       "141                                                     \n",
       "142                                                     \n",
       "\n",
       "[143 rows x 2 columns]"
      ]
     },
     "execution_count": 5,
     "metadata": {},
     "output_type": "execute_result"
    }
   ],
   "source": [
    "df"
   ]
  },
  {
   "cell_type": "code",
   "execution_count": null,
   "metadata": {},
   "outputs": [
    {
     "name": "stdout",
     "output_type": "stream",
     "text": [
      "Markdown file saved: qna_rag.md\n"
     ]
    }
   ],
   "source": [
    "# Convert DataFrame to Markdown format\n",
    "md_content = \"# Q&A Knowledge Base\\n\\n\"\n",
    "\n",
    "for _, row in df.iterrows():\n",
    "    md_content += f\"## Q: {row['Q']}\\n\"\n",
    "    md_content += f\"**A:**  \\n{row['A']}\\n\\n\"\n",
    "\n",
    "# Save to Markdown file\n",
    "with open(\"md/qna_rag.md\", \"w\", encoding=\"utf-8\") as file:\n",
    "    file.write(md_content)\n",
    "\n",
    "print(\"Markdown file saved: qna_rag.md\")\n"
   ]
  }
 ],
 "metadata": {
  "kernelspec": {
   "display_name": "Python 3",
   "language": "python",
   "name": "python3"
  },
  "language_info": {
   "codemirror_mode": {
    "name": "ipython",
    "version": 3
   },
   "file_extension": ".py",
   "mimetype": "text/x-python",
   "name": "python",
   "nbconvert_exporter": "python",
   "pygments_lexer": "ipython3",
   "version": "3.13.2"
  }
 },
 "nbformat": 4,
 "nbformat_minor": 2
}
